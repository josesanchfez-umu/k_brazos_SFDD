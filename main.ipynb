{
  "cells": [
    {
      "cell_type": "markdown",
      "metadata": {
        "colab_type": "text",
        "id": "view-in-github"
      },
      "source": [
        "<a href=\"https://colab.research.google.com/github/josesanchfez-umu/k_brazos_SFDD/blob/main/main.ipynb\" target=\"_parent\"><img src=\"https://colab.research.google.com/assets/colab-badge.svg\" alt=\"Open In Colab\"/></a>"
      ]
    },
    {
      "cell_type": "markdown",
      "metadata": {},
      "source": [
        "# Clonación del repositorio y descarga de las librerías"
      ]
    },
    {
      "cell_type": "code",
      "execution_count": null,
      "metadata": {
        "vscode": {
          "languageId": "plaintext"
        }
      },
      "outputs": [],
      "source": [
        "!git clone https://github.com/josesanchfez-umu/k_brazos_SFDD.git\n",
        "# Instalar librerías\n",
        "!pip install requirementsColab"
      ]
    },
    {
      "cell_type": "code",
      "execution_count": null,
      "metadata": {
        "vscode": {
          "languageId": "plaintext"
        }
      },
      "outputs": [],
      "source": [
        "import os\n",
        "os.chdir('k_brazos_SFDD')\n",
        "print(\"Directorio actual:\", os.getcwd())"
      ]
    },
    {
      "cell_type": "code",
      "execution_count": null,
      "metadata": {
        "vscode": {
          "languageId": "plaintext"
        }
      },
      "outputs": [],
      "source": [
        "import sys\n",
        "\n",
        "# Añadir los directorios fuentes al path de Python\n",
        "sys.path.append('./src')\n",
        "\n",
        "# Verificar que se han añadido correctamente\n",
        "print(sys.path)"
      ]
    },
    {
      "cell_type": "markdown",
      "metadata": {
        "id": "oSUMlhnE3rsY"
      },
      "source": [
        "# Introducción al Problema del Bandido de k-Brazos"
      ]
    },
    {
      "cell_type": "markdown",
      "metadata": {
        "id": "TjGe7oxd3rsZ"
      },
      "source": [
        "## ¿Qué es el problema del bandido de k-brazos?\n",
        "\n",
        "El problema del bandido de k-brazos es un problema asociado al aprendizaje por refuerzo que modela una situación de toma de decisiones secuencial bajo incertidumbre.\n",
        "\n",
        "Consiste en una máquina tragaperras con *k* brazos, donde cada brazo tiene una distribución de recompensa desconocida. El objetivo es maximizar la recompensa acumulada a lo largo del tiempo, equilibrando la exploración (probar nuevos brazos) y la explotación (usar el conocimiento previo para elegir el brazo que parece mejor). Para ello, se emplearán diversos algoritmos que siguen una política diferente a la hora de tomar decisiones, obteniendo unos resultados representados de forma gráfica que se utilizarán, posteriormente, para realizar una serie de comparaciones entre ellos con el fin de alcanzar unas conclusiones sobre la idoneidad de unos u otros."
      ]
    },
    {
      "cell_type": "markdown",
      "metadata": {
        "id": "UqdNyWky3rsZ"
      },
      "source": [
        "## Algoritmos a estudiar\n",
        "\n",
        "En este trabajo se estudiarán los siguientes algoritmos ya incluidos y vistos en clase:\n",
        "\n",
        "1. **ε-Greedy**: Un algoritmo que equilibra exploración y explotación eligiendo aleatoriamente con probabilidad ε y eligiendo el mejor brazo conocido con probabilidad 1-ε.\n",
        "2. **UCB (Upper Confidence Bound)**: Un algoritmo que selecciona el brazo con el límite superior de confianza más alto.\n",
        "3. **Ascenso del Gradiente**: Un algoritmo que ajusta las preferencias de los brazos basándose en las recompensas obtenidas.\n",
        "4. **Métodos Bayesianos**: Incluyen el muestreo de Thompson y UCB Bayesiano, que utilizan distribuciones de probabilidad para modelar la incertidumbre sobre las recompensas."
      ]
    },
    {
      "cell_type": "markdown",
      "metadata": {
        "id": "qEc7TR1D3rsa"
      },
      "source": [
        "# Estructura del repositorio\n",
        "\n",
        "Este repositorio contiene los siguientes ficheros y directorios, siguiendo de manera similar la estructura recomendada en el enunciado de la práctica:\n",
        "\n",
        "- **docs/**: Carpeta con los documentos usados para la memoria (LaTex, bibliografías y pdfs generados)\n",
        "- **src/**: Directorio que almacena los ficheros .py incluidos en el repositorio base. Se compone de las siguientes carpetas:\n",
        "    - **algorithms/**: Ficheros Python con los algoritmos a implementar en los estudios.\n",
        "    - **arms/**: Ficheros Python que definen las clases de objetos utilizados en los algoritmos.\n",
        "    - **plotting**: Ficheros correspondientes a la representación de resultados de ejecución de los algoritmos y posterior dibujo de gráficas.\n",
        "- **bandit_experiment.ipynb**: Experimento original del repositorio que estudia los algoritmos ε-Greedy.\n",
        "- **Estudios de la familia UCB**: Estudio propio de la familia de algoritmos UCB: UCB1 y UCB2.\n",
        "    - **ucb_bernoulli.ipynb**\n",
        "    - **ucb_binomial.ipynb**\n",
        "    - **ucb_normal.ipynb**\n",
        "- **Estudios de la familia de ascenso del gradiente**: Estudio propio de la familia de algoritmos de ascenso del gradiente: Softmax y Gradiente de Preferencias.\n",
        "    - **gradiente_bernoulli.ipynb**\n",
        "    - **gradiente_binomial.ipynb**\n",
        "    - **gradiente_normal.ipynb**"
      ]
    },
    {
      "cell_type": "markdown",
      "metadata": {
        "id": "gLLeRq6O3rsa"
      },
      "source": [
        "## Apunte sobre configuración del entorno"
      ]
    },
    {
      "cell_type": "markdown",
      "metadata": {
        "id": "cFvXvbcgsvMZ"
      },
      "source": [
        "Dentro de cada uno de los notebooks se deberá ejecutar la correspondiente celda de clonación del repositorio de Github, puesto que el entorno con todas las funciones se pierde al utilizar los enlaces de navegación del notebook main en caso de clonarlo desde aquí."
      ]
    },
    {
      "cell_type": "markdown",
      "metadata": {
        "id": "OPeU4DnG3rsa"
      },
      "source": [
        "## Navegación entre notebooks\n",
        "\n",
        "En esta celda se incluyen los enlaces a todos los estudios mencionados arriba:\n",
        "\n",
        "- [Estudio base ε-Greedy](greedy_experiment.ipynb)\n",
        "- [Estudio UCB con distribución Bernoulli](ucb_bernoulli.ipynb)\n",
        "- [Estudio UCB con distribución binomial](ucb_binomial.ipynb)\n",
        "- [Estudio UCB con distribución normal](ucb_normal.ipynb)\n",
        "- [Estudio ascenso del gradiente con distribución Bernoulli](gradiente_bernoulli.ipynb)\n",
        "- [Estudio ascenso del gradiente con distribución binomial](gradiente_binomial.ipynb)\n",
        "- [Estudio ascenso del gradiente con distribución normal](gradiente_normal.ipynb)"
      ]
    }
  ],
  "metadata": {
    "colab": {
      "include_colab_link": true,
      "provenance": []
    },
    "kernelspec": {
      "display_name": "veml",
      "language": "python",
      "name": "python3"
    },
    "language_info": {
      "name": "python",
      "version": "3.12.9"
    }
  },
  "nbformat": 4,
  "nbformat_minor": 0
}
